{
  "nbformat": 4,
  "nbformat_minor": 0,
  "metadata": {
    "colab": {
      "provenance": []
    },
    "kernelspec": {
      "name": "python3",
      "display_name": "Python 3"
    },
    "language_info": {
      "name": "python"
    }
  },
  "cells": [
    {
      "cell_type": "markdown",
      "source": [
        "# **Bird Species classification**\n",
        "\n",
        "\n",
        "A  machine learning task is the type of prediction or inference being made, based on the problem or question that is being asked, and the available data.\n",
        "Here the problem is that Zoological Society of London have to research and develop an implementation plan for a machine learning system to classify birds into different ecological groups using skeletal measurements.There are 420 birds contained in this dataset. Each bird is represented by 10 measurements:\n",
        "\n",
        "* Length and Diameter of Humerus\n",
        "* Length and Diameter of Ulna\n",
        "* Length and Diameter of Femur\n",
        "* Length and Diameter of Tibiotarsus\n",
        "* Length and Diameter of Tarsometatarsus etc.\n",
        "\n",
        "Each bird has a label for its ecological group:\n",
        "\n",
        "* SW: Swimming Birds\n",
        "* W: Wading Birds\n",
        "* T: Terrestrial Birds\n",
        "* R: Raptors\n",
        "* P: Scansorial Birds\n",
        "* SO: Singing Birds\n"
      ],
      "metadata": {
        "id": "E4wmpDiujtvn"
      }
    },
    {
      "cell_type": "markdown",
      "source": [
        "**Import required packages**\n"
      ],
      "metadata": {
        "id": "h19kWlXsdceI"
      }
    },
    {
      "cell_type": "code",
      "execution_count": 41,
      "metadata": {
        "id": "D2KhpTs1czBn"
      },
      "outputs": [],
      "source": [
        "import pandas as pd\n",
        "import seaborn as sns\n",
        "import numpy as np\n",
        "from scipy.stats import mstats\n",
        "from imblearn.over_sampling import SMOTE\n",
        "from sklearn.preprocessing import LabelEncoder\n",
        "from sklearn.decomposition import PCA\n",
        "from sklearn.preprocessing import StandardScaler\n",
        "from sklearn.model_selection import train_test_split\n",
        "from sklearn.feature_selection import SelectKBest, chi2\n",
        "import matplotlib.pyplot as plt\n",
        "from sklearn.model_selection import GridSearchCV\n",
        "from sklearn.metrics import accuracy_score, precision_score, recall_score, f1_score, confusion_matrix,classification_report\n",
        "import warnings\n",
        "# Ignore warning messages\n",
        "warnings.filterwarnings(\"ignore\")\n",
        "from sklearn.model_selection import cross_val_score\n",
        "from sklearn.ensemble import RandomForestClassifier\n",
        "from sklearn.svm import SVC\n",
        "from xgboost import XGBClassifier\n",
        "from sklearn.tree import DecisionTreeClassifier\n"
      ]
    },
    {
      "cell_type": "markdown",
      "source": [
        "## Data Preprocessing"
      ],
      "metadata": {
        "id": "Wkn8ZY5_nrFO"
      }
    },
    {
      "cell_type": "code",
      "source": [
        "# Load the data from a CSV file\n",
        "data = pd.read_csv('bird.csv')\n",
        "\n",
        "# Display the first few rows of the dataset\n",
        "print(data.head())"
      ],
      "metadata": {
        "id": "omBd2ICodsfA",
        "colab": {
          "base_uri": "https://localhost:8080/"
        },
        "outputId": "c19af64b-9612-47c9-d8fe-cc9981d725ec"
      },
      "execution_count": 42,
      "outputs": [
        {
          "output_type": "stream",
          "name": "stdout",
          "text": [
            "   id   huml  humw  ulnal  ulnaw   feml  femw   tibl  tibw   tarl  tarw type\n",
            "0   0  80.78  6.68  72.01   4.88  41.81  3.70   5.50  4.03  38.70  3.84   SW\n",
            "1   1  88.91  6.63  80.53   5.59  47.04  4.30  80.22  4.51  41.50  4.01   SW\n",
            "2   2  79.97  6.37  69.26   5.28  43.07  3.90  75.35  4.04  38.31  3.34   SW\n",
            "3   3  77.65  5.70  65.76   4.77  40.04  3.52  69.17  3.40  35.78  3.41   SW\n",
            "4   4  62.80  4.84  52.09   3.73  33.95  2.72  56.27  2.96  31.88  3.13   SW\n"
          ]
        }
      ]
    },
    {
      "cell_type": "markdown",
      "source": [
        "The dataset comprises measurements of various bird species categorized into six ecological groups: Swimming Birds (SW), Wading Birds (W), Terrestrial Birds (T), Raptors (R), Scansorial Birds (P), and Singing Birds (SO).\n",
        "This dataset comprises 420 bird samples, each represented by 10 measurements related to the length and diameter of specific bones.  The dataset is structured as a CSV file with 420 rows and 11 columns. The columns include an ID column, bone measurement columns (humerus length and diameter, ulna length and diameter, femur length and diameter, tibiotarsus length and diameter, tarsometatarsus length and diameter), and an ecological group (type) column."
      ],
      "metadata": {
        "id": "o5qnJKXjrxgO"
      }
    },
    {
      "cell_type": "markdown",
      "source": [
        "### Missing Data"
      ],
      "metadata": {
        "id": "LWiwvYq8667P"
      }
    },
    {
      "cell_type": "code",
      "source": [
        "# Check for missing values\n",
        "print(data.isnull().sum())\n"
      ],
      "metadata": {
        "id": "CZmnWnhBryCy",
        "colab": {
          "base_uri": "https://localhost:8080/"
        },
        "outputId": "63b2ef85-9be3-45f0-aa4f-c22a86b3f1cc"
      },
      "execution_count": 43,
      "outputs": [
        {
          "output_type": "stream",
          "name": "stdout",
          "text": [
            "id       0\n",
            "huml     1\n",
            "humw     1\n",
            "ulnal    3\n",
            "ulnaw    2\n",
            "feml     2\n",
            "femw     1\n",
            "tibl     2\n",
            "tibw     1\n",
            "tarl     1\n",
            "tarw     1\n",
            "type     0\n",
            "dtype: int64\n"
          ]
        }
      ]
    },
    {
      "cell_type": "markdown",
      "source": [
        " columns \"huml\", \"humw\", \"ulnal\", \"ulnaw\", \"feml\", \"femw\", \"tibl\", \"tibw\", \"tarl\", \"tarw\", and \"type\" have 1 to 3 null values, except for the column \"type\" which has 0 null values."
      ],
      "metadata": {
        "id": "ACNwuThtnfEP"
      }
    },
    {
      "cell_type": "markdown",
      "source": [
        "Let's visualize the missing values through heap map"
      ],
      "metadata": {
        "id": "yGm-OOHw7Yt5"
      }
    },
    {
      "cell_type": "code",
      "source": [
        "sns.heatmap(data.isnull(),yticklabels=False,cbar=False,cmap='viridis')\n"
      ],
      "metadata": {
        "colab": {
          "base_uri": "https://localhost:8080/",
          "height": 447
        },
        "id": "CSyCtyli7GdO",
        "outputId": "c72b74cd-38a4-410e-d1c3-2f23444e421f"
      },
      "execution_count": 44,
      "outputs": [
        {
          "output_type": "execute_result",
          "data": {
            "text/plain": [
              "<Axes: >"
            ]
          },
          "metadata": {},
          "execution_count": 44
        },
        {
          "output_type": "display_data",
          "data": {
            "text/plain": [
              "<Figure size 640x480 with 1 Axes>"
            ],
            "image/png": "[encoded data removed]"
          },
          "metadata": {}
        }
      ]
    },
    {
      "cell_type": "code",
      "source": [
        "# Missing values in the columns are replaced with the mean value calculated from the non-null values in each column\n",
        "data['huml'].fillna(data['huml'].mean(), inplace=True)\n",
        "data['humw'].fillna(data['humw'].mean(), inplace=True)\n",
        "data['ulnal'].fillna(data['ulnal'].mean(), inplace=True)\n",
        "data['ulnaw'].fillna(data['ulnaw'].mean(), inplace=True)\n",
        "data['feml'].fillna(data['feml'].mean(), inplace=True)\n",
        "data['femw'].fillna(data['femw'].mean(), inplace=True)\n",
        "data['tibl'].fillna(data['tibl'].mean(), inplace=True)\n",
        "data['tibw'].fillna(data['tibw'].mean(), inplace=True)\n",
        "data['tarl'].fillna(data['tarl'].mean(), inplace=True)\n",
        "data['tarw'].fillna(data['tarw'].mean(), inplace=True)\n",
        "\n",
        "# Verify null value handling\n",
        "null_counts_after = data.isnull().sum()\n",
        "print(null_counts_after)\n"
      ],
      "metadata": {
        "id": "v6NSrH0ltT9f",
        "colab": {
          "base_uri": "https://localhost:8080/"
        },
        "outputId": "eb660a8c-89fb-443b-80fa-3eec255009fc"
      },
      "execution_count": 45,
      "outputs": [
        {
          "output_type": "stream",
          "name": "stdout",
          "text": [
            "id       0\n",
            "huml     0\n",
            "humw     0\n",
            "ulnal    0\n",
            "ulnaw    0\n",
            "feml     0\n",
            "femw     0\n",
            "tibl     0\n",
            "tibw     0\n",
            "tarl     0\n",
            "tarw     0\n",
            "type     0\n",
            "dtype: int64\n"
          ]
        }
      ]
    },
    {
      "cell_type": "markdown",
      "source": [
        "### Statistics"
      ],
      "metadata": {
        "id": "Fce3M4w38Qqf"
      }
    },
    {
      "cell_type": "markdown",
      "source": [
        "Describing the statistics of a dataframe provides valuable insights into the data distribution and summary statistics of each column. By performing statistical analysis, we gain a better understanding of the central tendency, dispersion, and shape of the data."
      ],
      "metadata": {
        "id": "0ZO4bHxM8c7_"
      }
    },
    {
      "cell_type": "code",
      "source": [
        "# Display the statistics\n",
        "print(data.describe())"
      ],
      "metadata": {
        "id": "u1OZtN9uuaLw",
        "colab": {
          "base_uri": "https://localhost:8080/"
        },
        "outputId": "9a92efd1-d3f8-41bb-d9c1-3b4c3814d2c8"
      },
      "execution_count": 46,
      "outputs": [
        {
          "output_type": "stream",
          "name": "stdout",
          "text": [
            "               id        huml        humw       ulnal       ulnaw        feml  \\\n",
            "count  420.000000  420.000000  420.000000  420.000000  420.000000  420.000000   \n",
            "mean   209.500000   64.650501    4.370573   69.115372    3.597249   36.872416   \n",
            "std    121.387808   53.770269    2.851208   58.573950    2.181522   19.931342   \n",
            "min      0.000000    9.850000    1.140000   14.090000    1.000000   11.830000   \n",
            "25%    104.750000   25.205000    2.190000   28.132500    1.870000   21.332500   \n",
            "50%    209.500000   44.325000    3.510000   43.880000    2.965000   31.390000   \n",
            "75%    314.250000   90.220000    5.805000   97.205000    4.770000   47.100000   \n",
            "max    419.000000  420.000000   17.840000  422.000000   12.000000  117.070000   \n",
            "\n",
            "             femw        tibl        tibw        tarl        tarw  \n",
            "count  420.000000  420.000000  420.000000  420.000000  420.000000  \n",
            "mean     3.220883   64.662823    3.182339   39.229976    2.930024  \n",
            "std      2.021165   37.747731    2.078343   23.156631    2.183063  \n",
            "min      0.930000    5.500000    0.870000    7.770000    0.660000  \n",
            "25%      1.717500   36.472500    1.567500   23.042500    1.427500  \n",
            "50%      2.525000   52.325000    2.495000   31.810000    2.235000  \n",
            "75%      4.122500   82.870000    4.252500   50.155000    3.490000  \n",
            "max     11.640000  240.000000   11.030000  175.000000   14.090000  \n"
          ]
        }
      ]
    },
    {
      "cell_type": "markdown",
      "source": [
        "* Count: The number of non-null values in each column.\n",
        "* Mean: The average value of each column.\n",
        "* Std: The standard deviation, which measures the dispersion or variability of the values.\n",
        "* Min: The minimum value in each column.\n",
        "* 25%: The first quartile, representing the lower boundary of the middle 50% of the data.\n",
        "* 50%: The second quartile, which is the median or the midpoint of the data.\n",
        "* 75%: The third quartile, representing the upper boundary of the middle 50% of the data.\n",
        "* Max: The maximum value in each column.\n",
        "These statistics provide insights into the distribution and variability of the data. For example, the 'huml' column has a mean value of 64.65 and a standard deviation of 53.77, indicating a relatively wide range of values. The 'tibl' column has a maximum value of 240.0, while the 'tarw' column has a minimum value of 0.66."
      ],
      "metadata": {
        "id": "8_DacjnZoiTH"
      }
    },
    {
      "cell_type": "markdown",
      "source": [
        "### Outliers"
      ],
      "metadata": {
        "id": "u0tmwbmO8nuX"
      }
    },
    {
      "cell_type": "markdown",
      "source": [
        "Outliers in a dataframe refer to data points that deviate significantly from the overall pattern or distribution of the data. They are values that are either extremely high or extremely low compared to the majority of the data points. Identifying and handling outliers is an essential step in data analysis as they can have a significant impact on statistical analysis and modeling results."
      ],
      "metadata": {
        "id": "xjOO3HVD8yzh"
      }
    },
    {
      "cell_type": "code",
      "source": [
        "\n",
        "# Calculate z-scores for each column\n",
        "z_scores = (data - data.mean()) / data.std()\n",
        "\n",
        "# Define a threshold for outliers (e.g., z-score > 3 or z-score < -3)\n",
        "threshold = 3\n",
        "\n",
        "# Find outliers in each column\n",
        "outliers = np.abs(z_scores) > threshold\n",
        "\n",
        "# Print the indices of rows containing outliers for each column\n",
        "for column in data.columns:\n",
        "    column_outliers = outliers[column]\n",
        "    if any(column_outliers):\n",
        "        print(f\"Outliers in '{column}':\")\n",
        "        print(data[column][column_outliers].index)\n",
        "        print()\n"
      ],
      "metadata": {
        "id": "BKtSwrQEwXsV",
        "colab": {
          "base_uri": "https://localhost:8080/"
        },
        "outputId": "f937e5ea-0f6c-4ed5-ce7a-512247e90f56"
      },
      "execution_count": 47,
      "outputs": [
        {
          "output_type": "stream",
          "name": "stdout",
          "text": [
            "Outliers in 'huml':\n",
            "Int64Index([38, 39, 56, 57, 58, 59, 60], dtype='int64')\n",
            "\n",
            "Outliers in 'humw':\n",
            "Int64Index([29, 33, 38, 39, 56, 58, 202], dtype='int64')\n",
            "\n",
            "Outliers in 'ulnal':\n",
            "Int64Index([32, 33, 36, 38, 39, 56, 57, 58, 59, 60], dtype='int64')\n",
            "\n",
            "Outliers in 'ulnaw':\n",
            "Int64Index([29, 33, 38, 39, 58, 174], dtype='int64')\n",
            "\n",
            "Outliers in 'feml':\n",
            "Int64Index([58, 117, 201, 202], dtype='int64')\n",
            "\n",
            "Outliers in 'femw':\n",
            "Int64Index([38, 39, 58, 201, 202], dtype='int64')\n",
            "\n",
            "Outliers in 'tibl':\n",
            "Int64Index([11, 12, 56, 58, 60, 116, 117, 201, 202], dtype='int64')\n",
            "\n",
            "Outliers in 'tibw':\n",
            "Int64Index([12, 38, 39, 56, 58, 60, 201, 202], dtype='int64')\n",
            "\n",
            "Outliers in 'tarl':\n",
            "Int64Index([58, 116, 117, 201, 202], dtype='int64')\n",
            "\n",
            "Outliers in 'tarw':\n",
            "Int64Index([26, 27, 29, 30, 39, 232], dtype='int64')\n",
            "\n"
          ]
        }
      ]
    },
    {
      "cell_type": "markdown",
      "source": [
        "These indices represent the rows in the dataset where the values in the respective columns deviate significantly from the majority of the data points. Outliers can sometimes be influential points that may impact the analysis or modeling process. So, it's important to remove these outliers."
      ],
      "metadata": {
        "id": "q8WfnoQypHzd"
      }
    },
    {
      "cell_type": "markdown",
      "source": [
        "**Box Plot :**\n",
        "A box plot is a graphical representation that provides a visual summary of the distribution of a dataset. It displays the minimum, first quartile (25th percentile), median (second quartile or 50th percentile), third quartile (75th percentile), and maximum values of a variable. It also shows any potential outliers present in the data. Here I visualizing the outliers in boxplot\n"
      ],
      "metadata": {
        "id": "YpNme4GGpjv9"
      }
    },
    {
      "cell_type": "code",
      "source": [
        "# Box plot for each numerical column\n",
        "plt.figure(figsize=(10, 6))\n",
        "sns.boxplot(data=data.drop(['id'], axis=1))\n",
        "plt.title('Box plot of Bird Bone Measurements')\n",
        "plt.xticks(rotation=45)\n",
        "plt.show()"
      ],
      "metadata": {
        "id": "ZHJ_4OZ4dvCS",
        "colab": {
          "base_uri": "https://localhost:8080/",
          "height": 570
        },
        "outputId": "932cd57f-6832-4cce-a725-d112cd5b30eb"
      },
      "execution_count": 48,
      "outputs": [
        {
          "output_type": "display_data",
          "data": {
            "text/plain": [
              "<Figure size 1000x600 with 1 Axes>"
            ],
            "image/png": "[encoded data removed]"
          },
          "metadata": {}
        }
      ]
    },
    {
      "cell_type": "markdown",
      "source": [
        "**Winsorization** is a technique used to limit the impact of outliers by replacing extreme values with less extreme values. By performing winsorization on the 'huml' variable, the extreme values in the lower and upper tails of the distribution are adjusted, reducing their impact on statistical analyses or visualizations. Winsorization helps in achieving a more robust and stable analysis by minimizing the influence of outliers while still retaining the overall pattern of the data."
      ],
      "metadata": {
        "id": "q10W6RTJqOjF"
      }
    },
    {
      "cell_type": "code",
      "source": [
        "# These limits indicate that the lower and upper 5% of values in the 'huml' variable will be replaced with less extreme values.\n",
        "data['huml'] = mstats.winsorize(data['huml'], limits=[0.05, 0.05])\n",
        "data['humw'] = mstats.winsorize(data['humw'], limits=[0.05, 0.05])\n",
        "data['ulnal'] = mstats.winsorize(data['ulnal'], limits=[0.05, 0.05])\n",
        "data['ulnaw'] = mstats.winsorize(data['ulnaw'], limits=[0.05, 0.05])\n",
        "data['feml'] = mstats.winsorize(data['feml'], limits=[0.05, 0.05])\n",
        "data['femw'] = mstats.winsorize(data['femw'], limits=[0.05, 0.05])\n",
        "data['tibl'] = mstats.winsorize(data['tibl'], limits=[0.05, 0.05])\n",
        "data['tibw'] = mstats.winsorize(data['tibw'], limits=[0.05, 0.05])\n",
        "data['tarl'] = mstats.winsorize(data['tarl'], limits=[0.05, 0.05])\n",
        "data['tarw'] = mstats.winsorize(data['tarw'], limits=[0.05, 0.05])\n",
        "# Repeat the above step for each column containing outliers"
      ],
      "metadata": {
        "id": "0vBSmkNO0U6_"
      },
      "execution_count": 49,
      "outputs": []
    },
    {
      "cell_type": "code",
      "source": [
        "# Once again visualize boxplot for ensure that the outliers are removed.\n",
        "plt.figure(figsize=(10, 6))\n",
        "sns.boxplot(data=data.drop(['id'], axis=1))\n",
        "plt.title('Box plot of Bird Bone Measurements')\n",
        "plt.xticks(rotation=45)\n",
        "plt.show()"
      ],
      "metadata": {
        "id": "JWqqomkZ0U9b",
        "colab": {
          "base_uri": "https://localhost:8080/",
          "height": 570
        },
        "outputId": "bd2ee660-b692-4714-d26f-585ba8a708f3"
      },
      "execution_count": 50,
      "outputs": [
        {
          "output_type": "display_data",
          "data": {
            "text/plain": [
              "<Figure size 1000x600 with 1 Axes>"
            ],
            "image/png": "[encoded data removed]"
          },
          "metadata": {}
        }
      ]
    },
    {
      "cell_type": "markdown",
      "source": [
        "**Barchart  :**\n",
        "A bar chart is a graphical representation of categorical data using rectangular bars. Each bar represents a category, and the height of the bar corresponds to the value or frequency of that category. Let's check the freequency of classes."
      ],
      "metadata": {
        "id": "cDkU6ekprTKn"
      }
    },
    {
      "cell_type": "code",
      "source": [
        "\n",
        "# Count the number of occurrences of each ecological group\n",
        "group_counts = data['type'].value_counts()\n",
        "\n",
        "# Create a bar chart\n",
        "plt.bar(group_counts.index, group_counts.values)\n",
        "\n",
        "# Set labels and title\n",
        "plt.xlabel('Ecological Group')\n",
        "plt.ylabel('Count')\n",
        "plt.title('Bar Chart of Ecological Groups in Bird Dataset')\n",
        "\n",
        "# Rotate x-axis labels if needed\n",
        "plt.xticks(rotation=45)\n",
        "\n",
        "# Display the plot\n",
        "plt.show()\n"
      ],
      "metadata": {
        "id": "fW2qR6X70U_9",
        "colab": {
          "base_uri": "https://localhost:8080/",
          "height": 484
        },
        "outputId": "2436aef3-60df-44b3-d695-cf531911084c"
      },
      "execution_count": 51,
      "outputs": [
        {
          "output_type": "display_data",
          "data": {
            "text/plain": [
              "<Figure size 640x480 with 1 Axes>"
            ],
            "image/png": "[encoded data removed]"
          },
          "metadata": {}
        }
      ]
    },
    {
      "cell_type": "code",
      "source": [
        "# Count the frequency of each ecological group\n",
        "frequency = data['type'].value_counts()\n",
        "\n",
        "# Print the frequency\n",
        "print(frequency)\n"
      ],
      "metadata": {
        "id": "v2bWzFff0VCj",
        "colab": {
          "base_uri": "https://localhost:8080/"
        },
        "outputId": "efe4387c-2ef5-43fa-9345-0f398879017f"
      },
      "execution_count": 52,
      "outputs": [
        {
          "output_type": "stream",
          "name": "stdout",
          "text": [
            "SO    128\n",
            "SW    116\n",
            "W      65\n",
            "R      50\n",
            "P      38\n",
            "T      23\n",
            "Name: type, dtype: int64\n"
          ]
        }
      ]
    },
    {
      "cell_type": "markdown",
      "source": [
        "It's clear that the class is not balanced. it will affect the performance of the model. Hence to balance the class SMOTE will perform later."
      ],
      "metadata": {
        "id": "XUEb7sMrrnJH"
      }
    },
    {
      "cell_type": "markdown",
      "source": [
        " **Skewness** measures the asymmetry of the distribution of a variable. Positive skewness indicates a longer right tail, while negative skewness indicates a longer left tail. The magnitude of the skewness value indicates the degree of skewness."
      ],
      "metadata": {
        "id": "2p6-mAyHsOC5"
      }
    },
    {
      "cell_type": "code",
      "source": [
        "# Calculate skewness for each feature\n",
        "skewness = data.skew()\n",
        "\n",
        "# Print the skewness values\n",
        "print(skewness)"
      ],
      "metadata": {
        "id": "J3TQ40ubLD8S",
        "colab": {
          "base_uri": "https://localhost:8080/"
        },
        "outputId": "bf759edf-d4cd-417e-86a8-6e858fdc32f5"
      },
      "execution_count": 53,
      "outputs": [
        {
          "output_type": "stream",
          "name": "stdout",
          "text": [
            "id       0.000000\n",
            "huml     0.916416\n",
            "humw     0.962153\n",
            "ulnal    1.103873\n",
            "ulnaw    0.911894\n",
            "feml     0.892922\n",
            "femw     0.994029\n",
            "tibl     0.814977\n",
            "tibw     0.944723\n",
            "tarl     0.965210\n",
            "tarw     1.314834\n",
            "dtype: float64\n"
          ]
        }
      ]
    },
    {
      "cell_type": "markdown",
      "source": [
        "* Most of the features have positive skewness values, indicating a longer right tail in their distributions. This suggests that these features have outliers or extreme values on the higher end of the range.\n",
        "\n",
        "* The features \"tarw\" and \"ulnal\" have relatively higher positive skewness values compared to the other features, indicating a more pronounced right-skewed distribution.\n",
        "\n",
        "* The features \"tibl\" and \"feml\" have relatively lower positive skewness values, suggesting a less skewed distribution compared to the other features.\n",
        "\n",
        "* The feature \"tarw\" has the highest skewness value of 1.314834, indicating a relatively more skewed distribution towards the right.\n",
        "\n",
        "Overall, the skewness values suggest that the dataset may have some outliers or extreme values that are influencing the distribution of the features."
      ],
      "metadata": {
        "id": "8CSL9c8Vsd2I"
      }
    },
    {
      "cell_type": "code",
      "source": [
        "skewed_features = ['huml', 'humw', 'ulnal', 'ulnaw', 'feml', 'femw', 'tibl', 'tibw', 'tarl', 'tarw']\n",
        "\n",
        "# Apply logarithmic transformation to positively skewed features\n",
        "data[skewed_features] = np.log1p(data[skewed_features])\n",
        "\n",
        "# Check the skewness after transformation\n",
        "skewness_after = data[skewed_features].skew()\n",
        "\n",
        "print(skewness_after)"
      ],
      "metadata": {
        "id": "sdz-j6mBLEQw",
        "colab": {
          "base_uri": "https://localhost:8080/"
        },
        "outputId": "e54c92b6-e7bf-448d-ca4a-a428bc76b101"
      },
      "execution_count": 54,
      "outputs": [
        {
          "output_type": "stream",
          "name": "stdout",
          "text": [
            "huml     0.187905\n",
            "humw     0.342052\n",
            "ulnal    0.330643\n",
            "ulnaw    0.360068\n",
            "feml     0.221166\n",
            "femw     0.472644\n",
            "tibl     0.208643\n",
            "tibw     0.409857\n",
            "tarl     0.394795\n",
            "tarw     0.637120\n",
            "dtype: float64\n"
          ]
        }
      ]
    },
    {
      "cell_type": "markdown",
      "source": [
        "**Logarithmic** transformation is commonly used to handle positively skewed data. By applying this transformation, I have effectively reduced the skewness and made the data more suitable for certain statistical analyses and machine learning algorithms that assume normality or require symmetric data.\n",
        "* These values indicate that the skewness has been reduced compared to the original skewness values. The transformed features now have skewness values closer to zero, suggesting a more symmetric distribution."
      ],
      "metadata": {
        "id": "FQWxCk8ps1up"
      }
    },
    {
      "cell_type": "markdown",
      "source": [
        "**Correlation Matrix** A matrix where each entry represents the correlation coefficient between two variables. The correlation coefficient ranges from -1 to 1, with values close to 1 indicating a strong positive correlation, values close to -1 indicating a strong negative correlation, and values close to 0 indicating no or weak correlation between the variables."
      ],
      "metadata": {
        "id": "_VtLmA1cto6S"
      }
    },
    {
      "cell_type": "code",
      "source": [
        "# Compute the correlation matrix\n",
        "data1= data.drop('id', axis=1)\n",
        "\n",
        "corr_matrix = data1.corr()\n",
        "\n",
        "# Plot the correlation matrix\n",
        "plt.figure(figsize=(10, 8))\n",
        "sns.heatmap(corr_matrix, annot=True, cmap='coolwarm')\n",
        "plt.title('Correlation Matrix')\n",
        "plt.show()\n",
        "\n",
        "# Set the threshold for correlation\n",
        "threshold = 0.7\n",
        "\n",
        "# Find highly correlated features\n",
        "highly_correlated = np.where(np.abs(corr_matrix) > threshold)\n",
        "highly_correlated = [(corr_matrix.index[x], corr_matrix.columns[y]) for x, y in zip(*highly_correlated) if x != y and x < y]\n",
        "\n",
        "# Print the highly correlated features\n",
        "print(\"Highly Correlated Features:\")\n",
        "for feature1, feature2 in highly_correlated:\n",
        "    print(f\"{feature1} - {feature2}\")"
      ],
      "metadata": {
        "id": "ZRgbnWcXayd5",
        "colab": {
          "base_uri": "https://localhost:8080/",
          "height": 1000
        },
        "outputId": "da393011-271b-429c-b38a-6c2d1f0879b9"
      },
      "execution_count": 55,
      "outputs": [
        {
          "output_type": "display_data",
          "data": {
            "text/plain": [
              "<Figure size 1000x800 with 2 Axes>"
            ],
            "image/png": "[encoded data removed]"
          },
          "metadata": {}
        },
        {
          "output_type": "stream",
          "name": "stdout",
          "text": [
            "Highly Correlated Features:\n",
            "huml - humw\n",
            "huml - ulnal\n",
            "huml - ulnaw\n",
            "huml - feml\n",
            "huml - femw\n",
            "huml - tibl\n",
            "huml - tibw\n",
            "huml - tarl\n",
            "huml - tarw\n",
            "humw - ulnal\n",
            "humw - ulnaw\n",
            "humw - feml\n",
            "humw - femw\n",
            "humw - tibl\n",
            "humw - tibw\n",
            "humw - tarl\n",
            "humw - tarw\n",
            "ulnal - ulnaw\n",
            "ulnal - feml\n",
            "ulnal - femw\n",
            "ulnal - tibl\n",
            "ulnal - tibw\n",
            "ulnal - tarl\n",
            "ulnal - tarw\n",
            "ulnaw - feml\n",
            "ulnaw - femw\n",
            "ulnaw - tibl\n",
            "ulnaw - tibw\n",
            "ulnaw - tarl\n",
            "ulnaw - tarw\n",
            "feml - femw\n",
            "feml - tibl\n",
            "feml - tibw\n",
            "feml - tarl\n",
            "feml - tarw\n",
            "femw - tibl\n",
            "femw - tibw\n",
            "femw - tarl\n",
            "femw - tarw\n",
            "tibl - tibw\n",
            "tibl - tarl\n",
            "tibl - tarw\n",
            "tibw - tarl\n",
            "tibw - tarw\n",
            "tarl - tarw\n"
          ]
        }
      ]
    },
    {
      "cell_type": "code",
      "source": [
        "corr_matrix\n"
      ],
      "metadata": {
        "colab": {
          "base_uri": "https://localhost:8080/",
          "height": 363
        },
        "id": "TcKu471OuBRL",
        "outputId": "ba13b5f8-894d-4fdf-e1ab-79765ff2e747"
      },
      "execution_count": 56,
      "outputs": [
        {
          "output_type": "execute_result",
          "data": {
            "text/plain": [
              "           huml      humw     ulnal     ulnaw      feml      femw      tibl  \\\n",
              "huml   1.000000  0.950370  0.977400  0.947068  0.852741  0.893119  0.895760   \n",
              "humw   0.950370  1.000000  0.929803  0.982551  0.902287  0.944152  0.876987   \n",
              "ulnal  0.977400  0.929803  1.000000  0.920501  0.832513  0.873528  0.863952   \n",
              "ulnaw  0.947068  0.982551  0.920501  1.000000  0.882230  0.927679  0.875396   \n",
              "feml   0.852741  0.902287  0.832513  0.882230  1.000000  0.957311  0.912080   \n",
              "femw   0.893119  0.944152  0.873528  0.927679  0.957311  1.000000  0.917302   \n",
              "tibl   0.895760  0.876987  0.863952  0.875396  0.912080  0.917302  1.000000   \n",
              "tibw   0.912782  0.934307  0.886979  0.923238  0.934498  0.973805  0.952063   \n",
              "tarl   0.767217  0.726798  0.752833  0.718357  0.837143  0.811852  0.911848   \n",
              "tarw   0.866142  0.929113  0.845668  0.915201  0.932734  0.954237  0.860087   \n",
              "\n",
              "           tibw      tarl      tarw  \n",
              "huml   0.912782  0.767217  0.866142  \n",
              "humw   0.934307  0.726798  0.929113  \n",
              "ulnal  0.886979  0.752833  0.845668  \n",
              "ulnaw  0.923238  0.718357  0.915201  \n",
              "feml   0.934498  0.837143  0.932734  \n",
              "femw   0.973805  0.811852  0.954237  \n",
              "tibl   0.952063  0.911848  0.860087  \n",
              "tibw   1.000000  0.851358  0.930850  \n",
              "tarl   0.851358  1.000000  0.732254  \n",
              "tarw   0.930850  0.732254  1.000000  "
            ],
            "text/html": [
              "\n",
              "  <div id=\"df-1a7d8d4a-2dcf-413f-87aa-7ae019404cad\">\n",
              "    <div class=\"colab-df-container\">\n",
              "      <div>\n",
              "<style scoped>\n",
              "    .dataframe tbody tr th:only-of-type {\n",
              "        vertical-align: middle;\n",
              "    }\n",
              "\n",
              "    .dataframe tbody tr th {\n",
              "        vertical-align: top;\n",
              "    }\n",
              "\n",
              "    .dataframe thead th {\n",
              "        text-align: right;\n",
              "    }\n",
              "</style>\n",
              "<table border=\"1\" class=\"dataframe\">\n",
              "  <thead>\n",
              "    <tr style=\"text-align: right;\">\n",
              "      <th></th>\n",
              "      <th>huml</th>\n",
              "      <th>humw</th>\n",
              "      <th>ulnal</th>\n",
              "      <th>ulnaw</th>\n",
              "      <th>feml</th>\n",
              "      <th>femw</th>\n",
              "      <th>tibl</th>\n",
              "      <th>tibw</th>\n",
              "      <th>tarl</th>\n",
              "      <th>tarw</th>\n",
              "    </tr>\n",
              "  </thead>\n",
              "  <tbody>\n",
              "    <tr>\n",
              "      <th>huml</th>\n",
              "      <td>1.000000</td>\n",
              "      <td>0.950370</td>\n",
              "      <td>0.977400</td>\n",
              "      <td>0.947068</td>\n",
              "      <td>0.852741</td>\n",
              "      <td>0.893119</td>\n",
              "      <td>0.895760</td>\n",
              "      <td>0.912782</td>\n",
              "      <td>0.767217</td>\n",
              "      <td>0.866142</td>\n",
              "    </tr>\n",
              "    <tr>\n",
              "      <th>humw</th>\n",
              "      <td>0.950370</td>\n",
              "      <td>1.000000</td>\n",
              "      <td>0.929803</td>\n",
              "      <td>0.982551</td>\n",
              "      <td>0.902287</td>\n",
              "      <td>0.944152</td>\n",
              "      <td>0.876987</td>\n",
              "      <td>0.934307</td>\n",
              "      <td>0.726798</td>\n",
              "      <td>0.929113</td>\n",
              "    </tr>\n",
              "    <tr>\n",
              "      <th>ulnal</th>\n",
              "      <td>0.977400</td>\n",
              "      <td>0.929803</td>\n",
              "      <td>1.000000</td>\n",
              "      <td>0.920501</td>\n",
              "      <td>0.832513</td>\n",
              "      <td>0.873528</td>\n",
              "      <td>0.863952</td>\n",
              "      <td>0.886979</td>\n",
              "      <td>0.752833</td>\n",
              "      <td>0.845668</td>\n",
              "    </tr>\n",
              "    <tr>\n",
              "      <th>ulnaw</th>\n",
              "      <td>0.947068</td>\n",
              "      <td>0.982551</td>\n",
              "      <td>0.920501</td>\n",
              "      <td>1.000000</td>\n",
              "      <td>0.882230</td>\n",
              "      <td>0.927679</td>\n",
              "      <td>0.875396</td>\n",
              "      <td>0.923238</td>\n",
              "      <td>0.718357</td>\n",
              "      <td>0.915201</td>\n",
              "    </tr>\n",
              "    <tr>\n",
              "      <th>feml</th>\n",
              "      <td>0.852741</td>\n",
              "      <td>0.902287</td>\n",
              "      <td>0.832513</td>\n",
              "      <td>0.882230</td>\n",
              "      <td>1.000000</td>\n",
              "      <td>0.957311</td>\n",
              "      <td>0.912080</td>\n",
              "      <td>0.934498</td>\n",
              "      <td>0.837143</td>\n",
              "      <td>0.932734</td>\n",
              "    </tr>\n",
              "    <tr>\n",
              "      <th>femw</th>\n",
              "      <td>0.893119</td>\n",
              "      <td>0.944152</td>\n",
              "      <td>0.873528</td>\n",
              "      <td>0.927679</td>\n",
              "      <td>0.957311</td>\n",
              "      <td>1.000000</td>\n",
              "      <td>0.917302</td>\n",
              "      <td>0.973805</td>\n",
              "      <td>0.811852</td>\n",
              "      <td>0.954237</td>\n",
              "    </tr>\n",
              "    <tr>\n",
              "      <th>tibl</th>\n",
              "      <td>0.895760</td>\n",
              "      <td>0.876987</td>\n",
              "      <td>0.863952</td>\n",
              "      <td>0.875396</td>\n",
              "      <td>0.912080</td>\n",
              "      <td>0.917302</td>\n",
              "      <td>1.000000</td>\n",
              "      <td>0.952063</td>\n",
              "      <td>0.911848</td>\n",
              "      <td>0.860087</td>\n",
              "    </tr>\n",
              "    <tr>\n",
              "      <th>tibw</th>\n",
              "      <td>0.912782</td>\n",
              "      <td>0.934307</td>\n",
              "      <td>0.886979</td>\n",
              "      <td>0.923238</td>\n",
              "      <td>0.934498</td>\n",
              "      <td>0.973805</td>\n",
              "      <td>0.952063</td>\n",
              "      <td>1.000000</td>\n",
              "      <td>0.851358</td>\n",
              "      <td>0.930850</td>\n",
              "    </tr>\n",
              "    <tr>\n",
              "      <th>tarl</th>\n",
              "      <td>0.767217</td>\n",
              "      <td>0.726798</td>\n",
              "      <td>0.752833</td>\n",
              "      <td>0.718357</td>\n",
              "      <td>0.837143</td>\n",
              "      <td>0.811852</td>\n",
              "      <td>0.911848</td>\n",
              "      <td>0.851358</td>\n",
              "      <td>1.000000</td>\n",
              "      <td>0.732254</td>\n",
              "    </tr>\n",
              "    <tr>\n",
              "      <th>tarw</th>\n",
              "      <td>0.866142</td>\n",
              "      <td>0.929113</td>\n",
              "      <td>0.845668</td>\n",
              "      <td>0.915201</td>\n",
              "      <td>0.932734</td>\n",
              "      <td>0.954237</td>\n",
              "      <td>0.860087</td>\n",
              "      <td>0.930850</td>\n",
              "      <td>0.732254</td>\n",
              "      <td>1.000000</td>\n",
              "    </tr>\n",
              "  </tbody>\n",
              "</table>\n",
              "</div>\n",
              "      <button class=\"colab-df-convert\" onclick=\"convertToInteractive('df-1a7d8d4a-2dcf-413f-87aa-7ae019404cad')\"\n",
              "              title=\"Convert this dataframe to an interactive table.\"\n",
              "              style=\"display:none;\">\n",
              "        \n",
              "  <svg xmlns=\"http://www.w3.org/2000/svg\" height=\"24px\"viewBox=\"0 0 24 24\"\n",
              "       width=\"24px\">\n",
              "    <path d=\"M0 0h24v24H0V0z\" fill=\"none\"/>\n",
              "    <path d=\"M18.56 5.44l.94 2.06.94-2.06 2.06-.94-2.06-.94-.94-2.06-.94 2.06-2.06.94zm-11 1L8.5 8.5l.94-2.06 2.06-.94-2.06-.94L8.5 2.5l-.94 2.06-2.06.94zm10 10l.94 2.06.94-2.06 2.06-.94-2.06-.94-.94-2.06-.94 2.06-2.06.94z\"/><path d=\"M17.41 7.96l-1.37-1.37c-.4-.4-.92-.59-1.43-.59-.52 0-1.04.2-1.43.59L10.3 9.45l-7.72 7.72c-.78.78-.78 2.05 0 2.83L4 21.41c.39.39.9.59 1.41.59.51 0 1.02-.2 1.41-.59l7.78-7.78 2.81-2.81c.8-.78.8-2.07 0-2.86zM5.41 20L4 18.59l7.72-7.72 1.47 1.35L5.41 20z\"/>\n",
              "  </svg>\n",
              "      </button>\n",
              "      \n",
              "  <style>\n",
              "    .colab-df-container {\n",
              "      display:flex;\n",
              "      flex-wrap:wrap;\n",
              "      gap: 12px;\n",
              "    }\n",
              "\n",
              "    .colab-df-convert {\n",
              "      background-color: #E8F0FE;\n",
              "      border: none;\n",
              "      border-radius: 50%;\n",
              "      cursor: pointer;\n",
              "      display: none;\n",
              "      fill: #1967D2;\n",
              "      height: 32px;\n",
              "      padding: 0 0 0 0;\n",
              "      width: 32px;\n",
              "    }\n",
              "\n",
              "    .colab-df-convert:hover {\n",
              "      background-color: #E2EBFA;\n",
              "      box-shadow: 0px 1px 2px rgba(60, 64, 67, 0.3), 0px 1px 3px 1px rgba(60, 64, 67, 0.15);\n",
              "      fill: #174EA6;\n",
              "    }\n",
              "\n",
              "    [theme=dark] .colab-df-convert {\n",
              "      background-color: #3B4455;\n",
              "      fill: #D2E3FC;\n",
              "    }\n",
              "\n",
              "    [theme=dark] .colab-df-convert:hover {\n",
              "      background-color: #434B5C;\n",
              "      box-shadow: 0px 1px 3px 1px rgba(0, 0, 0, 0.15);\n",
              "      filter: drop-shadow(0px 1px 2px rgba(0, 0, 0, 0.3));\n",
              "      fill: #FFFFFF;\n",
              "    }\n",
              "  </style>\n",
              "\n",
              "      <script>\n",
              "        const buttonEl =\n",
              "          document.querySelector('#df-1a7d8d4a-2dcf-413f-87aa-7ae019404cad button.colab-df-convert');\n",
              "        buttonEl.style.display =\n",
              "          google.colab.kernel.accessAllowed ? 'block' : 'none';\n",
              "\n",
              "        async function convertToInteractive(key) {\n",
              "          const element = document.querySelector('#df-1a7d8d4a-2dcf-413f-87aa-7ae019404cad');\n",
              "          const dataTable =\n",
              "            await google.colab.kernel.invokeFunction('convertToInteractive',\n",
              "                                                     [key], {});\n",
              "          if (!dataTable) return;\n",
              "\n",
              "          const docLinkHtml = 'Like what you see? Visit the ' +\n",
              "            '<a target=\"_blank\" href=https://colab.research.google.com/notebooks/data_table.ipynb>data table notebook</a>'\n",
              "            + ' to learn more about interactive tables.';\n",
              "          element.innerHTML = '';\n",
              "          dataTable['output_type'] = 'display_data';\n",
              "          await google.colab.output.renderOutput(dataTable, element);\n",
              "          const docLink = document.createElement('div');\n",
              "          docLink.innerHTML = docLinkHtml;\n",
              "          element.appendChild(docLink);\n",
              "        }\n",
              "      </script>\n",
              "    </div>\n",
              "  </div>\n",
              "  "
            ]
          },
          "metadata": {},
          "execution_count": 56
        }
      ]
    },
    {
      "cell_type": "markdown",
      "source": [
        "* There is a strong positive correlation between 'huml' and 'humw' (0.95), 'huml' and 'ulnal' (0.98), and 'huml' and 'ulnaw' (0.95). This suggests that these variables tend to increase or decrease together.\n",
        "* Similarly, there is a strong positive correlation between 'humw' and 'ulnal' (0.93), 'humw' and 'ulnaw' (0.98), and 'humw' and 'femw' (0.94).\n",
        "* 'ulnal' and 'ulnaw' also exhibit a strong positive correlation (0.92), indicating that they are likely to vary together.\n",
        "* There is a moderate positive correlation between 'feml' and 'femw' (0.96), 'feml' and 'tibl' (0.91), and 'feml' and 'tarw' (0.83).\n",
        "* 'tibl' and 'tibw' show a strong positive correlation (0.95), suggesting a tendency to vary together.\n",
        "* 'tarl' and 'tarw' have a moderate positive correlation (0.73)."
      ],
      "metadata": {
        "id": "Sokw7XdsuQ8r"
      }
    },
    {
      "cell_type": "markdown",
      "source": [
        "Set Target and Feature Variables"
      ],
      "metadata": {
        "id": "V0ECwAxJu5fT"
      }
    },
    {
      "cell_type": "code",
      "source": [
        "# Separate the features and target variable\n",
        "X = data.drop('type', axis=1)\n",
        "y = data['type']"
      ],
      "metadata": {
        "id": "T4CkR8TYOYy1"
      },
      "execution_count": 57,
      "outputs": []
    },
    {
      "cell_type": "markdown",
      "source": [
        "**Label Encoder  :** Label encoding is a preprocessing technique commonly used in machine learning to convert categorical variables into numerical representations. It assigns a unique numerical label to each unique category in the categorical variable. The label encoding process is applied to transform the categorical data into a format that can be processed by machine learning algorithms that expect numeric inputs.Here,\n",
        "* 'P' is encoded as 0\n",
        "* 'R' is encoded as 1\n",
        "* 'SO' is encoded as 2\n",
        "* 'SW' is encoded as 3\n",
        "* 'T' is encoded as 4\n",
        "* 'W' is encoded as 5"
      ],
      "metadata": {
        "id": "t65MWJEbvB57"
      }
    },
    {
      "cell_type": "code",
      "source": [
        "# Convert categorical variable to numerical using LabelEncoder\n",
        "label_encoder = LabelEncoder()\n",
        "y_encoded = label_encoder.fit_transform(y)\n",
        "\n",
        "# Print the mapping of encoded values to original categories\n",
        "label_mapping = dict(zip(label_encoder.classes_, label_encoder.transform(label_encoder.classes_)))\n",
        "print(\"Label mapping:\", label_mapping)\n",
        "\n",
        "# Update the 'type' column in the dataset with the encoded values\n",
        "data['type'] = y_encoded\n",
        "data"
      ],
      "metadata": {
        "id": "EFDrJMBDOY1P",
        "colab": {
          "base_uri": "https://localhost:8080/",
          "height": 441
        },
        "outputId": "36f67edc-e70b-4944-d4b7-7f13fbf87566"
      },
      "execution_count": 58,
      "outputs": [
        {
          "output_type": "stream",
          "name": "stdout",
          "text": [
            "Label mapping: {'P': 0, 'R': 1, 'SO': 2, 'SW': 3, 'T': 4, 'W': 5}\n"
          ]
        },
        {
          "output_type": "execute_result",
          "data": {
            "text/plain": [
              "      id      huml      humw     ulnal     ulnaw      feml      femw  \\\n",
              "0      0  4.404033  2.038620  4.290596  1.771557  3.756772  1.547563   \n",
              "1      1  4.498809  2.032088  4.400971  1.885553  3.872034  1.667707   \n",
              "2      2  4.394079  1.997418  4.252203  1.837370  3.785779  1.589235   \n",
              "3      3  4.365008  1.902108  4.201104  1.752672  3.714547  1.508512   \n",
              "4      4  4.155753  1.764731  3.971989  1.553925  3.553918  1.313724   \n",
              "..   ...       ...       ...       ...       ...       ...       ...   \n",
              "415  415  2.942331  0.966984  3.022861  0.845868  2.963209  0.932164   \n",
              "416  416  3.006178  0.970779  3.080073  0.912283  3.007661  0.896088   \n",
              "417  417  2.985177  0.966984  3.036394  0.928219  3.089223  0.887891   \n",
              "418  418  3.062456  1.022451  3.158276  0.916291  3.106826  0.908259   \n",
              "419  419  2.938633  0.912283  3.022861  0.845868  2.924236  0.850151   \n",
              "\n",
              "         tibl      tibw      tarl      tarw  type  \n",
              "0    3.299903  1.615420  3.681351  1.576915     3  \n",
              "1    4.397162  1.706565  3.749504  1.611436     3  \n",
              "2    4.335328  1.617406  3.671479  1.467874     3  \n",
              "3    4.250921  1.481605  3.604954  1.483875     3  \n",
              "4    4.047777  1.376244  3.492865  1.418277     3  \n",
              "..        ...       ...       ...       ...   ...  \n",
              "415  3.473518  0.845868  3.135059  0.765468     2  \n",
              "416  3.532518  0.824175  3.202746  0.765468     2  \n",
              "417  3.568123  0.879627  3.172203  0.792993     2  \n",
              "418  3.613347  0.928219  3.295096  0.806476     2  \n",
              "419  3.427839  0.806476  3.121924  0.717840     2  \n",
              "\n",
              "[420 rows x 12 columns]"
            ],
            "text/html": [
              "\n",
              "  <div id=\"df-c33f1ab3-3759-4b61-8172-9dc511701270\">\n",
              "    <div class=\"colab-df-container\">\n",
              "      <div>\n",
              "<style scoped>\n",
              "    .dataframe tbody tr th:only-of-type {\n",
              "        vertical-align: middle;\n",
              "    }\n",
              "\n",
              "    .dataframe tbody tr th {\n",
              "        vertical-align: top;\n",
              "    }\n",
              "\n",
              "    .dataframe thead th {\n",
              "        text-align: right;\n",
              "    }\n",
              "</style>\n",
              "<table border=\"1\" class=\"dataframe\">\n",
              "  <thead>\n",
              "    <tr style=\"text-align: right;\">\n",
              "      <th></th>\n",
              "      <th>id</th>\n",
              "      <th>huml</th>\n",
              "      <th>humw</th>\n",
              "      <th>ulnal</th>\n",
              "      <th>ulnaw</th>\n",
              "      <th>feml</th>\n",
              "      <th>femw</th>\n",
              "      <th>tibl</th>\n",
              "      <th>tibw</th>\n",
              "      <th>tarl</th>\n",
              "      <th>tarw</th>\n",
              "      <th>type</th>\n",
              "    </tr>\n",
              "  </thead>\n",
              "  <tbody>\n",
              "    <tr>\n",
              "      <th>0</th>\n",
              "      <td>0</td>\n",
              "      <td>4.404033</td>\n",
              "      <td>2.038620</td>\n",
              "      <td>4.290596</td>\n",
              "      <td>1.771557</td>\n",
              "      <td>3.756772</td>\n",
              "      <td>1.547563</td>\n",
              "      <td>3.299903</td>\n",
              "      <td>1.615420</td>\n",
              "      <td>3.681351</td>\n",
              "      <td>1.576915</td>\n",
              "      <td>3</td>\n",
              "    </tr>\n",
              "    <tr>\n",
              "      <th>1</th>\n",
              "      <td>1</td>\n",
              "      <td>4.498809</td>\n",
              "      <td>2.032088</td>\n",
              "      <td>4.400971</td>\n",
              "      <td>1.885553</td>\n",
              "      <td>3.872034</td>\n",
              "      <td>1.667707</td>\n",
              "      <td>4.397162</td>\n",
              "      <td>1.706565</td>\n",
              "      <td>3.749504</td>\n",
              "      <td>1.611436</td>\n",
              "      <td>3</td>\n",
              "    </tr>\n",
              "    <tr>\n",
              "      <th>2</th>\n",
              "      <td>2</td>\n",
              "      <td>4.394079</td>\n",
              "      <td>1.997418</td>\n",
              "      <td>4.252203</td>\n",
              "      <td>1.837370</td>\n",
              "      <td>3.785779</td>\n",
              "      <td>1.589235</td>\n",
              "      <td>4.335328</td>\n",
              "      <td>1.617406</td>\n",
              "      <td>3.671479</td>\n",
              "      <td>1.467874</td>\n",
              "      <td>3</td>\n",
              "    </tr>\n",
              "    <tr>\n",
              "      <th>3</th>\n",
              "      <td>3</td>\n",
              "      <td>4.365008</td>\n",
              "      <td>1.902108</td>\n",
              "      <td>4.201104</td>\n",
              "      <td>1.752672</td>\n",
              "      <td>3.714547</td>\n",
              "      <td>1.508512</td>\n",
              "      <td>4.250921</td>\n",
              "      <td>1.481605</td>\n",
              "      <td>3.604954</td>\n",
              "      <td>1.483875</td>\n",
              "      <td>3</td>\n",
              "    </tr>\n",
              "    <tr>\n",
              "      <th>4</th>\n",
              "      <td>4</td>\n",
              "      <td>4.155753</td>\n",
              "      <td>1.764731</td>\n",
              "      <td>3.971989</td>\n",
              "      <td>1.553925</td>\n",
              "      <td>3.553918</td>\n",
              "      <td>1.313724</td>\n",
              "      <td>4.047777</td>\n",
              "      <td>1.376244</td>\n",
              "      <td>3.492865</td>\n",
              "      <td>1.418277</td>\n",
              "      <td>3</td>\n",
              "    </tr>\n",
              "    <tr>\n",
              "      <th>...</th>\n",
              "      <td>...</td>\n",
              "      <td>...</td>\n",
              "      <td>...</td>\n",
              "      <td>...</td>\n",
              "      <td>...</td>\n",
              "      <td>...</td>\n",
              "      <td>...</td>\n",
              "      <td>...</td>\n",
              "      <td>...</td>\n",
              "      <td>...</td>\n",
              "      <td>...</td>\n",
              "      <td>...</td>\n",
              "    </tr>\n",
              "    <tr>\n",
              "      <th>415</th>\n",
              "      <td>415</td>\n",
              "      <td>2.942331</td>\n",
              "      <td>0.966984</td>\n",
              "      <td>3.022861</td>\n",
              "      <td>0.845868</td>\n",
              "      <td>2.963209</td>\n",
              "      <td>0.932164</td>\n",
              "      <td>3.473518</td>\n",
              "      <td>0.845868</td>\n",
              "      <td>3.135059</td>\n",
              "      <td>0.765468</td>\n",
              "      <td>2</td>\n",
              "    </tr>\n",
              "    <tr>\n",
              "      <th>416</th>\n",
              "      <td>416</td>\n",
              "      <td>3.006178</td>\n",
              "      <td>0.970779</td>\n",
              "      <td>3.080073</td>\n",
              "      <td>0.912283</td>\n",
              "      <td>3.007661</td>\n",
              "      <td>0.896088</td>\n",
              "      <td>3.532518</td>\n",
              "      <td>0.824175</td>\n",
              "      <td>3.202746</td>\n",
              "      <td>0.765468</td>\n",
              "      <td>2</td>\n",
              "    </tr>\n",
              "    <tr>\n",
              "      <th>417</th>\n",
              "      <td>417</td>\n",
              "      <td>2.985177</td>\n",
              "      <td>0.966984</td>\n",
              "      <td>3.036394</td>\n",
              "      <td>0.928219</td>\n",
              "      <td>3.089223</td>\n",
              "      <td>0.887891</td>\n",
              "      <td>3.568123</td>\n",
              "      <td>0.879627</td>\n",
              "      <td>3.172203</td>\n",
              "      <td>0.792993</td>\n",
              "      <td>2</td>\n",
              "    </tr>\n",
              "    <tr>\n",
              "      <th>418</th>\n",
              "      <td>418</td>\n",
              "      <td>3.062456</td>\n",
              "      <td>1.022451</td>\n",
              "      <td>3.158276</td>\n",
              "      <td>0.916291</td>\n",
              "      <td>3.106826</td>\n",
              "      <td>0.908259</td>\n",
              "      <td>3.613347</td>\n",
              "      <td>0.928219</td>\n",
              "      <td>3.295096</td>\n",
              "      <td>0.806476</td>\n",
              "      <td>2</td>\n",
              "    </tr>\n",
              "    <tr>\n",
              "      <th>419</th>\n",
              "      <td>419</td>\n",
              "      <td>2.938633</td>\n",
              "      <td>0.912283</td>\n",
              "      <td>3.022861</td>\n",
              "      <td>0.845868</td>\n",
              "      <td>2.924236</td>\n",
              "      <td>0.850151</td>\n",
              "      <td>3.427839</td>\n",
              "      <td>0.806476</td>\n",
              "      <td>3.121924</td>\n",
              "      <td>0.717840</td>\n",
              "      <td>2</td>\n",
              "    </tr>\n",
              "  </tbody>\n",
              "</table>\n",
              "<p>420 rows × 12 columns</p>\n",
              "</div>\n",
              "      <button class=\"colab-df-convert\" onclick=\"convertToInteractive('df-c33f1ab3-3759-4b61-8172-9dc511701270')\"\n",
              "              title=\"Convert this dataframe to an interactive table.\"\n",
              "              style=\"display:none;\">\n",
              "        \n",
              "  <svg xmlns=\"http://www.w3.org/2000/svg\" height=\"24px\"viewBox=\"0 0 24 24\"\n",
              "       width=\"24px\">\n",
              "    <path d=\"M0 0h24v24H0V0z\" fill=\"none\"/>\n",
              "    <path d=\"M18.56 5.44l.94 2.06.94-2.06 2.06-.94-2.06-.94-.94-2.06-.94 2.06-2.06.94zm-11 1L8.5 8.5l.94-2.06 2.06-.94-2.06-.94L8.5 2.5l-.94 2.06-2.06.94zm10 10l.94 2.06.94-2.06 2.06-.94-2.06-.94-.94-2.06-.94 2.06-2.06.94z\"/><path d=\"M17.41 7.96l-1.37-1.37c-.4-.4-.92-.59-1.43-.59-.52 0-1.04.2-1.43.59L10.3 9.45l-7.72 7.72c-.78.78-.78 2.05 0 2.83L4 21.41c.39.39.9.59 1.41.59.51 0 1.02-.2 1.41-.59l7.78-7.78 2.81-2.81c.8-.78.8-2.07 0-2.86zM5.41 20L4 18.59l7.72-7.72 1.47 1.35L5.41 20z\"/>\n",
              "  </svg>\n",
              "      </button>\n",
              "      \n",
              "  <style>\n",
              "    .colab-df-container {\n",
              "      display:flex;\n",
              "      flex-wrap:wrap;\n",
              "      gap: 12px;\n",
              "    }\n",
              "\n",
              "    .colab-df-convert {\n",
              "      background-color: #E8F0FE;\n",
              "      border: none;\n",
              "      border-radius: 50%;\n",
              "      cursor: pointer;\n",
              "      display: none;\n",
              "      fill: #1967D2;\n",
              "      height: 32px;\n",
              "      padding: 0 0 0 0;\n",
              "      width: 32px;\n",
              "    }\n",
              "\n",
              "    .colab-df-convert:hover {\n",
              "      background-color: #E2EBFA;\n",
              "      box-shadow: 0px 1px 2px rgba(60, 64, 67, 0.3), 0px 1px 3px 1px rgba(60, 64, 67, 0.15);\n",
              "      fill: #174EA6;\n",
              "    }\n",
              "\n",
              "    [theme=dark] .colab-df-convert {\n",
              "      background-color: #3B4455;\n",
              "      fill: #D2E3FC;\n",
              "    }\n",
              "\n",
              "    [theme=dark] .colab-df-convert:hover {\n",
              "      background-color: #434B5C;\n",
              "      box-shadow: 0px 1px 3px 1px rgba(0, 0, 0, 0.15);\n",
              "      filter: drop-shadow(0px 1px 2px rgba(0, 0, 0, 0.3));\n",
              "      fill: #FFFFFF;\n",
              "    }\n",
              "  </style>\n",
              "\n",
              "      <script>\n",
              "        const buttonEl =\n",
              "          document.querySelector('#df-c33f1ab3-3759-4b61-8172-9dc511701270 button.colab-df-convert');\n",
              "        buttonEl.style.display =\n",
              "          google.colab.kernel.accessAllowed ? 'block' : 'none';\n",
              "\n",
              "        async function convertToInteractive(key) {\n",
              "          const element = document.querySelector('#df-c33f1ab3-3759-4b61-8172-9dc511701270');\n",
              "          const dataTable =\n",
              "            await google.colab.kernel.invokeFunction('convertToInteractive',\n",
              "                                                     [key], {});\n",
              "          if (!dataTable) return;\n",
              "\n",
              "          const docLinkHtml = 'Like what you see? Visit the ' +\n",
              "            '<a target=\"_blank\" href=https://colab.research.google.com/notebooks/data_table.ipynb>data table notebook</a>'\n",
              "            + ' to learn more about interactive tables.';\n",
              "          element.innerHTML = '';\n",
              "          dataTable['output_type'] = 'display_data';\n",
              "          await google.colab.output.renderOutput(dataTable, element);\n",
              "          const docLink = document.createElement('div');\n",
              "          docLink.innerHTML = docLinkHtml;\n",
              "          element.appendChild(docLink);\n",
              "        }\n",
              "      </script>\n",
              "    </div>\n",
              "  </div>\n",
              "  "
            ]
          },
          "metadata": {},
          "execution_count": 58
        }
      ]
    },
    {
      "cell_type": "markdown",
      "source": [
        "**Feature selection using the chi-square test** is a statistical method used to assess the relationship between categorical features and a categorical target variable. It evaluates the dependence between two categorical variables by measuring the discrepancy between the observed frequencies and the expected frequencies under the assumption of independence."
      ],
      "metadata": {
        "id": "MCsWygjmzng2"
      }
    },
    {
      "cell_type": "code",
      "source": [
        "\n",
        "# Perform feature selection using chi-square test\n",
        "selector = SelectKBest(score_func=chi2, k=5)  # Select top 5 features\n",
        "X_selected = selector.fit_transform(X, y)\n",
        "\n",
        "# Get the chi-square scores for each feature\n",
        "chi_scores = selector.scores_\n",
        "\n",
        "# Create a dictionary to map features to their chi-square scores\n",
        "feature_scores = dict(zip(X.columns, chi_scores))\n",
        "\n",
        "# Sort features based on chi-square scores in descending order\n",
        "sorted_features = sorted(feature_scores.items(), key=lambda x: x[1], reverse=True)\n",
        "\n",
        "# Print the chi-square scores for each feature in descending order\n",
        "print(\"Chi-square Scores (Descending Order):\")\n",
        "for feature, score in sorted_features:\n",
        "    print(f\"{feature}: {score}\")\n"
      ],
      "metadata": {
        "id": "Jb8JNpQBc2Xl",
        "colab": {
          "base_uri": "https://localhost:8080/"
        },
        "outputId": "d2dda52f-2ecc-4459-c13a-7014d8d74881"
      },
      "execution_count": 59,
      "outputs": [
        {
          "output_type": "stream",
          "name": "stdout",
          "text": [
            "Chi-square Scores (Descending Order):\n",
            "id: 27829.47016706449\n",
            "huml: 35.44245605289513\n",
            "tarw: 33.56414275008972\n",
            "tibw: 29.864642711749102\n",
            "humw: 29.855159168299053\n",
            "ulnaw: 28.058448638433404\n",
            "ulnal: 27.745013057629986\n",
            "femw: 25.466432576304072\n",
            "feml: 12.918071981726163\n",
            "tibl: 12.310757627669807\n",
            "tarl: 8.585351492840193\n"
          ]
        }
      ]
    },
    {
      "cell_type": "markdown",
      "source": [
        "Higher scores indicate a stronger association between the feature and the target variable, suggesting that the feature may be informative for the classification task. In this case, the 'huml' feature has the highest chi-square score, indicating a strong association with the target variable. On the other hand, 'tarl' has the lowest score among the features listed."
      ],
      "metadata": {
        "id": "WDC-PNVpz34W"
      }
    },
    {
      "cell_type": "markdown",
      "source": [
        "## Split data into Train and Test"
      ],
      "metadata": {
        "id": "DslFToZ00Ewm"
      }
    },
    {
      "cell_type": "markdown",
      "source": [
        "The train-test split is a crucial step in machine learning where the dataset is divided into two separate parts: a training set and a test set. This division allows us to assess the performance and generalization of the trained model. While the standard practice is to allocate 80% of the data to the training set and 20% to the test set, the actual split ratio may vary depending on factors such as dataset size and specific requirements of the problem at hand."
      ],
      "metadata": {
        "id": "Uo3TzG1e8DF4"
      }
    },
    {
      "cell_type": "code",
      "source": [
        "\n",
        "# Split the data into training and testing sets\n",
        "X_train, X_test, y_train, y_test = train_test_split(X, y, test_size=0.2, random_state=42)\n",
        "\n",
        "# Apply feature scaling using StandardScaler\n",
        "scaler = StandardScaler()\n",
        "X_train = scaler.fit_transform(X_train)\n",
        "X_test = scaler.transform(X_test)\n",
        "\n",
        "# Apply SMOTE for oversampling the minority class\n",
        "smote = SMOTE(random_state=42)\n",
        "X_train_resampled, y_train_resampled = smote.fit_resample(X_train, y_train)"
      ],
      "metadata": {
        "id": "IzLZopBd4V9D"
      },
      "execution_count": 60,
      "outputs": []
    },
    {
      "cell_type": "markdown",
      "source": [
        "Firstly, the data is split into training and testing sets, where 80% of the data is allocated for training and 20% for testing. Subsequently, the features in the training and testing sets are standardized using the StandardScaler, ensuring they have zero mean and unit variance. This step is crucial for avoiding bias towards certain features and enabling proper comparison between them. Lastly, the Synthetic Minority Over-sampling Technique (SMOTE) is applied to address class imbalance in the training set by generating synthetic samples of the minority class. This helps create a balanced distribution of classes, enhancing the model's ability to learn from the minority class. The resulting resampled training set, along with the original testing set, can then be used for model training and evaluation, respectively."
      ],
      "metadata": {
        "id": "dJ-0v24-0hfw"
      }
    },
    {
      "cell_type": "markdown",
      "source": [
        "## Model Training\n",
        "\n",
        "Here I using 3 models for classification\n",
        "\n",
        "1. Random Forest Classifier\n",
        "2. Decision Tree Classifier\n",
        "3. Support Vector Machine Classifier\n",
        "\n",
        "### Hyper parameter Optimizer\n",
        "\n",
        "A hyperparameter optimizer is a component or algorithm used in machine learning to automatically search for the best combination of hyperparameters for a given model. Hyperparameters are parameters that are set before the training process and cannot be learned from the data.\n",
        "\n",
        "The role of a hyperparameter optimizer is to explore the hyperparameter space and find the combination of values that maximizes or minimizes a chosen evaluation metric, such as accuracy or loss. This is typically done through an iterative process where different combinations of hyperparameters are evaluated and compared.There are several popular hyperparameter optimization techniques, including: Grid Search,Random Search,Bayesian Optimization,Genetic Algorithms and Gradient-Based Optimization.\n",
        "\n",
        "Here I used Grid search for all models.\n",
        "\n",
        "The grid search algorithm works by defining a grid of hyperparameter values to explore. Each combination of hyperparameters is then evaluated using a specified evaluation metric, such as accuracy or mean squared error, by performing cross-validation on the training data.\n",
        "\n",
        "By exhaustively searching through all possible combinations of hyperparameters in the defined grid, grid search helps to identify the set of hyperparameters that yield the best performance on the evaluation metric. It allows for a more systematic and automated approach to hyperparameter tuning, saving time and effort compared to manually tuning each hyperparameter individually.\n",
        "\n",
        "Note: The \"param_grid\" variable represents a grid of hyperparameters that can be tuned for a machine learning model.\n",
        "\n",
        "### Model Evaluation\n",
        "\n",
        "After training the model, the next crucial step is evaluating its performance on the test set, which was separated using the train-test split method. This evaluation is essential to gauge how well the model is expected to perform on new, unseen data. By assessing the model's performance on the test set, we can gain insights into its ability to generalize and make accurate predictions in real-world scenarios. This evaluation step allows us to validate the model's effectiveness and make informed decisions about its deployment or potential improvements.\n",
        "\n",
        "* A classification report is a concise summary of the performance of a classification model, providing detailed metrics for each class. It includes metrics such as precision, recall, F1-score, and support. Precision measures the accuracy of positive predictions, recall calculates the sensitivity or true positive rate, and the F1-score is the harmonic mean of precision and recall. The support metric represents the number of samples in each class. The classification report provides a comprehensive overview of the model's performance on a class-by-class basis, helping to assess its ability to correctly classify different classes and aiding in identifying areas that may require further attention or improvement.\n",
        "\n",
        "* A confusion matrix is a concise summary of a classification model's performance. It presents a square matrix where each row corresponds to the actual class labels, and each column represents the predicted class labels. The matrix contains counts or frequencies of true positives, true negatives, false positives, and false negatives. From this matrix, various metrics such as accuracy, precision, recall, and F1-score can be calculated to evaluate the model's overall accuracy and its ability to correctly classify positive and negative instances. The confusion matrix provides a comprehensive and informative assessment of the model's predictive performance and aids in identifying areas of improvement or further analysis."
      ],
      "metadata": {
        "id": "UyGXxxXN0mHF"
      }
    },
    {
      "cell_type": "markdown",
      "source": [
        "### Random Forest Classifier\n",
        "\n",
        "Random Forest is an ensemble learning algorithm that combines multiple decision trees to make accurate predictions. It randomly selects subsets of data and features to train each tree, reducing overfitting and improving generalization. During prediction, the algorithm aggregates the individual tree predictions to make the final prediction. Random Forest is versatile, handling both classification and regression tasks, and can handle high-dimensional data, missing values, and outliers. It is computationally efficient and provides insights into feature importance, making it widely used in different domains.\n",
        "\n",
        "\n",
        "Parameter Grid:\n",
        "* 'n_estimators': This parameter determines the number of trees in the forest. The grid includes options of 100, 200, and 300 trees.\n",
        "\n",
        "* 'max_depth': This parameter specifies the maximum depth of each tree. The grid includes options of no maximum depth (None), as well as depths of 5 and 10.\n",
        "\n",
        "* 'min_samples_split': This parameter sets the minimum number of samples required to split an internal node. The grid includes options of 2, 5, and 10 samples.\n",
        "\n",
        "* 'min_samples_leaf': This parameter sets the minimum number of samples required to be at a leaf node. The grid includes options of 1, 2, and 4 samples."
      ],
      "metadata": {
        "id": "qTDYJqQ66TTm"
      }
    },
    {
      "cell_type": "code",
      "source": [
        "\n",
        "# Define the parameter grid\n",
        "param_grid = {\n",
        "    'n_estimators': [100, 200, 300],  # Number of trees in the forest\n",
        "    'max_depth': [None, 5, 10],  # Maximum depth of the trees\n",
        "    'min_samples_split': [2, 5, 10],  # Minimum number of samples required to split an internal node\n",
        "    'min_samples_leaf': [1, 2, 4]  # Minimum number of samples required to be at a leaf node\n",
        "}\n",
        "\n",
        "# Create a random forest classifier\n",
        "rf_model = RandomForestClassifier()\n",
        "\n",
        "# Perform grid search with cross-validation\n",
        "grid_search = GridSearchCV(estimator=rf_model, param_grid=param_grid, cv=5)\n",
        "grid_search.fit(X_train, y_train)\n",
        "\n",
        "# Print the best hyperparameters\n",
        "print(\"Best Hyperparameters: \", grid_search.best_params_)\n",
        "\n",
        "# Evaluate the best model on the test set\n",
        "best_rfc_model = grid_search.best_estimator_\n",
        "accuracy = best_rfc_model.score(X_test, y_test)\n",
        "print(\"Accuracy: {:.2f}%\".format(accuracy * 100))\n"
      ],
      "metadata": {
        "colab": {
          "base_uri": "https://localhost:8080/"
        },
        "id": "L87hSxSdzmcG",
        "outputId": "703c55d8-fceb-4213-a1c3-b9768966987b"
      },
      "execution_count": 61,
      "outputs": [
        {
          "output_type": "stream",
          "name": "stdout",
          "text": [
            "Best Hyperparameters:  {'max_depth': None, 'min_samples_leaf': 1, 'min_samples_split': 2, 'n_estimators': 200}\n",
            "Accuracy: 98.81%\n"
          ]
        }
      ]
    },
    {
      "cell_type": "markdown",
      "source": [
        "The output suggests that the best hyperparameters for the model were found to be:\n",
        "\n",
        "* 'max_depth': None\n",
        "* 'min_samples_leaf': 1\n",
        "* 'min_samples_split': 2\n",
        "* 'n_estimators': 100\n",
        "\n",
        " These values indicate that the model performed best with an unlimited maximum depth, a minimum of 1 sample required at each leaf node, a minimum of 2 samples required to split an internal node, and 100 trees in the random forest.\n",
        "\n",
        "The accuracy achieved by the model using these hyperparameters is reported as 98.81%. This suggests that the model is performing well and is able to accurately classify the given data with a high level of accuracy."
      ],
      "metadata": {
        "id": "cTwDpfAN6SVv"
      }
    },
    {
      "cell_type": "markdown",
      "source": [
        "### Model Evaluation of Random forest classifier"
      ],
      "metadata": {
        "id": "DDECQSehGioj"
      }
    },
    {
      "cell_type": "code",
      "source": [
        "\n",
        "y_rfc_pred = best_rfc_model.predict(X_test)\n",
        "\n",
        "# Calculate evaluation metrics\n",
        "accuracy = accuracy_score(y_test, y_rfc_pred)\n",
        "precision = precision_score(y_test, y_rfc_pred, average='weighted')\n",
        "recall = recall_score(y_test, y_rfc_pred, average='weighted')\n",
        "\n",
        "# Print the classification report\n",
        "print(classification_report(y_test, y_rfc_pred))\n",
        "\n",
        "f1 = f1_score(y_test, y_rfc_pred, average='weighted')\n",
        "confusion = confusion_matrix(y_test, y_rfc_pred)\n",
        "\n",
        "# Print the evaluation metrics\n",
        "print(\"Accuracy: {:.2f}%\".format(accuracy * 100))\n",
        "print(\"Precision: {:.2f}\".format(precision))\n",
        "print(\"Recall: {:.2f}\".format(recall))\n",
        "print(\"F1-score: {:.2f}\".format(f1))\n",
        "print(\"Confusion Matrix:\")\n",
        "print(confusion)"
      ],
      "metadata": {
        "id": "jkSH5UfCZdqp",
        "colab": {
          "base_uri": "https://localhost:8080/"
        },
        "outputId": "26f4671e-b331-4693-abfb-672e57afddfd"
      },
      "execution_count": 62,
      "outputs": [
        {
          "output_type": "stream",
          "name": "stdout",
          "text": [
            "              precision    recall  f1-score   support\n",
            "\n",
            "           P       1.00      1.00      1.00         8\n",
            "           R       1.00      1.00      1.00         6\n",
            "          SO       1.00      1.00      1.00        26\n",
            "          SW       0.97      1.00      0.98        30\n",
            "           T       1.00      1.00      1.00         4\n",
            "           W       1.00      0.90      0.95        10\n",
            "\n",
            "    accuracy                           0.99        84\n",
            "   macro avg       0.99      0.98      0.99        84\n",
            "weighted avg       0.99      0.99      0.99        84\n",
            "\n",
            "Accuracy: 98.81%\n",
            "Precision: 0.99\n",
            "Recall: 0.99\n",
            "F1-score: 0.99\n",
            "Confusion Matrix:\n",
            "[[ 8  0  0  0  0  0]\n",
            " [ 0  6  0  0  0  0]\n",
            " [ 0  0 26  0  0  0]\n",
            " [ 0  0  0 30  0  0]\n",
            " [ 0  0  0  0  4  0]\n",
            " [ 0  0  0  1  0  9]]\n"
          ]
        }
      ]
    },
    {
      "cell_type": "markdown",
      "source": [
        "### Decision Tree Classifier\n",
        "\n",
        "A decision tree classifier is a machine learning algorithm that creates a tree-like model for classification and regression tasks. It partitions the feature space by recursively selecting the best features to split the data, forming decision rules at each internal node. The algorithm traverses the tree to make predictions based on the feature values, ultimately assigning a class label at the leaf nodes. Decision trees are interpretable, handle different types of features, and can capture non-linear relationships. However, they are prone to overfitting, which can be mitigated using pruning and regularization techniques. Overall, decision tree classifiers offer a versatile and intuitive approach to data analysis and prediction.\n",
        "\n",
        "Parameter Grid :\n",
        "\n",
        "* 'criterion': It specifies the split criterion for decision making, with options of 'gini' or 'entropy'.\n",
        "* 'max_depth': It determines the maximum depth of the decision tree, with values of 3, 5, 7, or None (unlimited depth).\n",
        "* 'min_samples_split': It sets the minimum number of samples required to split an internal node, with options of 2, 5, or 10.\n",
        "* 'min_samples_leaf': It defines the minimum number of samples required to be at a leaf node, with values of 1, 2, or 4.\n",
        "* 'max_features': It determines the maximum number of features to consider for the best split, with options of 'auto', 'sqrt', 'log2', or None (consider all features).\n",
        "By exploring different combinations of these hyperparameters, I can search for the optimal configuration that yields the best performance for the decision tree classifier."
      ],
      "metadata": {
        "id": "J-FZlgZc_rso"
      }
    },
    {
      "cell_type": "code",
      "source": [
        "\n",
        "\n",
        "# Define the parameter grid\n",
        "param_grid = {\n",
        "    'criterion': ['gini', 'entropy'],  # Split criterion\n",
        "    'max_depth': [3, 5, 7, None],  # Maximum depth of the tree\n",
        "    'min_samples_split': [2, 5, 10],  # Minimum number of samples required to split an internal node\n",
        "    'min_samples_leaf': [1, 2, 4],  # Minimum number of samples required to be at a leaf node\n",
        "    'max_features': ['auto', 'sqrt', 'log2', None]  # Maximum number of features to consider for the best split\n",
        "}\n",
        "\n",
        "# Create a Decision Tree classifier\n",
        "dt_model = DecisionTreeClassifier()\n",
        "\n",
        "# Perform grid search with cross-validation\n",
        "grid_search = GridSearchCV(estimator=dt_model, param_grid=param_grid, cv=5)\n",
        "grid_search.fit(X_train, y_train)\n",
        "\n",
        "# Print the best hyperparameters\n",
        "print(\"Best Hyperparameters: \", grid_search.best_params_)\n",
        "\n",
        "# Evaluate the best model on the test set\n",
        "best_dtc_model = grid_search.best_estimator_\n",
        "accuracy = best_dtc_model.score(X_test, y_test)\n",
        "print(\"Accuracy: {:.2f}%\".format(accuracy * 100))\n"
      ],
      "metadata": {
        "colab": {
          "base_uri": "https://localhost:8080/"
        },
        "id": "LPVPoZrJvk45",
        "outputId": "fc09fd74-17ad-4d27-a709-a79cdb1b20be"
      },
      "execution_count": 63,
      "outputs": [
        {
          "output_type": "stream",
          "name": "stdout",
          "text": [
            "Best Hyperparameters:  {'criterion': 'gini', 'max_depth': 5, 'max_features': None, 'min_samples_leaf': 1, 'min_samples_split': 2}\n",
            "Accuracy: 98.81%\n"
          ]
        }
      ]
    },
    {
      "cell_type": "markdown",
      "source": [
        "Output shows the best hyperparameters found during the tuning process for a decision tree classifier. The best hyperparameters are as follows:\n",
        "\n",
        "* 'criterion': 'gini'\n",
        "* 'max_depth': 5\n",
        "* 'max_features': None\n",
        "* 'min_samples_leaf': 1\n",
        "* 'min_samples_split': 2\n",
        "\n",
        "This means that the decision tree classifier achieved the highest accuracy of 98.81% when using these hyperparameter values.\n",
        "\n",
        "* The 'criterion' is set to 'gini', indicating that the Gini impurity measure was used as the split criterion for decision making.\n",
        "\n",
        "* The 'max_depth' is set to 5, limiting the depth of the decision tree to five levels. This helps control the complexity of the model and prevents overfitting.\n",
        "\n",
        "* The 'max_features' is set to None, meaning that all features were considered for the best split.\n",
        "\n",
        "* The 'min_samples_leaf' is set to 1, indicating that each leaf node must contain at least one sample.\n",
        "\n",
        "* The 'min_samples_split' is set to 2, meaning that a node must have at least two samples to be eligible for splitting.\n",
        "\n",
        "Overall, with these hyperparameters, the decision tree classifier achieved an accuracy of 98.81%, suggesting that it performed well in making accurate predictions on the given dataset."
      ],
      "metadata": {
        "id": "-1Tn6nyWCyzG"
      }
    },
    {
      "cell_type": "markdown",
      "source": [
        "### Model Evaluation of Decision Tree Classifier"
      ],
      "metadata": {
        "id": "5hL_t9WFHVaP"
      }
    },
    {
      "cell_type": "code",
      "source": [
        "y_dtc_pred = best_dtc_model.predict(X_test)\n",
        "\n",
        "# Calculate evaluation metrics\n",
        "accuracy = accuracy_score(y_test, y_dtc_pred)\n",
        "precision = precision_score(y_test, y_dtc_pred, average='weighted')\n",
        "recall = recall_score(y_test, y_dtc_pred, average='weighted')\n",
        "f1 = f1_score(y_test, y_dtc_pred, average='weighted')\n",
        "confusion = confusion_matrix(y_test, y_dtc_pred)\n",
        "\n",
        "# Print the classification report\n",
        "print(classification_report(y_test, y_dtc_pred))\n",
        "\n",
        "# Print the evaluation metrics\n",
        "print(\"Accuracy: {:.2f}%\".format(accuracy * 100))\n",
        "print(\"Precision: {:.2f}\".format(precision))\n",
        "print(\"Recall: {:.2f}\".format(recall))\n",
        "print(\"F1-score: {:.2f}\".format(f1))\n",
        "print(\"Confusion Matrix:\")\n",
        "print(confusion)"
      ],
      "metadata": {
        "colab": {
          "base_uri": "https://localhost:8080/"
        },
        "id": "loceZS5NISA4",
        "outputId": "ca763096-6a30-4009-81db-1675f5aec51e"
      },
      "execution_count": 64,
      "outputs": [
        {
          "output_type": "stream",
          "name": "stdout",
          "text": [
            "              precision    recall  f1-score   support\n",
            "\n",
            "           P       1.00      1.00      1.00         8\n",
            "           R       1.00      1.00      1.00         6\n",
            "          SO       1.00      1.00      1.00        26\n",
            "          SW       0.97      1.00      0.98        30\n",
            "           T       1.00      1.00      1.00         4\n",
            "           W       1.00      0.90      0.95        10\n",
            "\n",
            "    accuracy                           0.99        84\n",
            "   macro avg       0.99      0.98      0.99        84\n",
            "weighted avg       0.99      0.99      0.99        84\n",
            "\n",
            "Accuracy: 98.81%\n",
            "Precision: 0.99\n",
            "Recall: 0.99\n",
            "F1-score: 0.99\n",
            "Confusion Matrix:\n",
            "[[ 8  0  0  0  0  0]\n",
            " [ 0  6  0  0  0  0]\n",
            " [ 0  0 26  0  0  0]\n",
            " [ 0  0  0 30  0  0]\n",
            " [ 0  0  0  0  4  0]\n",
            " [ 0  0  0  1  0  9]]\n"
          ]
        }
      ]
    },
    {
      "cell_type": "markdown",
      "source": [
        "### Support Vector Machine Classifier\n",
        "\n",
        "\n",
        "The Support Vector Machine (SVM) classifier is a popular algorithm used for classification tasks. It finds an optimal hyperplane that maximally separates different classes in a high-dimensional feature space, by transforming the data using a kernel function. SVMs are efficient in handling high-dimensional data, can capture complex decision boundaries, and are robust to outliers. They can handle non-linear classification problems through implicit mapping. However, SVMs may have computational complexity with large datasets and require careful hyperparameter tuning. Overall, SVM classifiers are powerful tools for classification, providing accurate results through optimal hyperplane selection and feature space transformation.\n",
        "\n",
        "Parameter Grid: The 'param_grid' dictionary represents a grid of hyperparameters for tuning a Support Vector Machine (SVM) classifier. The hyperparameters include:\n",
        "\n",
        "* 'C': It is the regularization parameter that controls the trade-off between maximizing the margin and minimizing the classification error. It takes values of 0.1, 1, or 10.\n",
        "\n",
        "* 'kernel': It specifies the kernel function used to transform the data into a higher-dimensional space. The options include 'linear' for a linear kernel, 'rbf' for a radial basis function kernel, and 'poly' for a polynomial kernel.\n",
        "\n",
        "* 'gamma': It is the kernel coefficient and defines the influence of each training example on the decision boundary. The options are 'scale', which is calculated based on the inverse of the feature standard deviation, and 'auto', which uses 1/n_features.\n",
        "\n",
        "By exploring different combinations of these hyperparameters, I can search for the optimal configuration that yields the best performance for the SVM classifier."
      ],
      "metadata": {
        "id": "HLsfDENTDWKf"
      }
    },
    {
      "cell_type": "code",
      "source": [
        "\n",
        "# Define the parameter grid\n",
        "param_grid = {\n",
        "    'C': [0.1, 1, 10],  # Regularization parameter\n",
        "    'kernel': ['linear', 'rbf', 'poly'],  # Kernel function\n",
        "    'gamma': ['scale', 'auto']  # Kernel coefficient\n",
        "}\n",
        "\n",
        "# Create an SVM classifier\n",
        "svm_model = SVC()\n",
        "\n",
        "# Perform grid search with cross-validation\n",
        "grid_search = GridSearchCV(estimator=svm_model, param_grid=param_grid, cv=5)\n",
        "grid_search.fit(X_train, y_train)\n",
        "\n",
        "# Print the best hyperparameters\n",
        "print(\"Best Hyperparameters: \", grid_search.best_params_)\n",
        "\n",
        "# Evaluate the best model on the test set\n",
        "best_svm_model = grid_search.best_estimator_\n",
        "accuracy = best_svm_model.score(X_test, y_test)\n",
        "print(\"Accuracy: {:.2f}%\".format(accuracy * 100))\n"
      ],
      "metadata": {
        "colab": {
          "base_uri": "https://localhost:8080/"
        },
        "id": "T-oHT4WNn7oH",
        "outputId": "07dd962e-3f31-4d7c-e37c-d9884e2ed16f"
      },
      "execution_count": 65,
      "outputs": [
        {
          "output_type": "stream",
          "name": "stdout",
          "text": [
            "Best Hyperparameters:  {'C': 10, 'gamma': 'scale', 'kernel': 'linear'}\n",
            "Accuracy: 98.81%\n"
          ]
        }
      ]
    },
    {
      "cell_type": "markdown",
      "source": [
        "Output shows the best hyperparameters found during the tuning process for a Support Vector Machine (SVM) classifier. The best hyperparameters are as follows:\n",
        "\n",
        "* 'C': 10\n",
        "* 'gamma': 'scale'\n",
        "* 'kernel': 'linear'\n",
        "\n",
        "This means that the SVM classifier achieved the highest accuracy of 98.81% when using these hyperparameter values.\n",
        "\n",
        "* The 'C' parameter represents the regularization parameter, and a value of 10 suggests a relatively high regularization strength, which can help reduce overfitting by enforcing a stricter margin.\n",
        "\n",
        "* The 'gamma' parameter is set to 'scale', which means it is calculated based on the inverse of the feature standard deviation. This helps adjust the influence of each training example on the decision boundary based on the spread of the data.\n",
        "\n",
        "* The 'kernel' is set to 'linear', indicating that a linear kernel function was used. A linear kernel creates a linear decision boundary in the original feature space.\n",
        "\n",
        "Overall, with these hyperparameters, the SVM classifier achieved an accuracy of 98.81%, indicating that it performed well in making accurate predictions on the given dataset, particularly by using a linear kernel with a higher regularization strength."
      ],
      "metadata": {
        "id": "3wZh6Hj_EGr3"
      }
    },
    {
      "cell_type": "markdown",
      "source": [
        "### Model Evaluation of Support Vector Machine"
      ],
      "metadata": {
        "id": "KBy_HiKpHgJx"
      }
    },
    {
      "cell_type": "code",
      "source": [
        "y_svm_pred = best_svm_model.predict(X_test)\n",
        "\n",
        "# Calculate evaluation metrics\n",
        "accuracy = accuracy_score(y_test, y_svm_pred)\n",
        "precision = precision_score(y_test, y_svm_pred, average='weighted')\n",
        "recall = recall_score(y_test, y_svm_pred, average='weighted')\n",
        "f1 = f1_score(y_test, y_svm_pred, average='weighted')\n",
        "confusion = confusion_matrix(y_test, y_svm_pred)\n",
        "\n",
        "# Print the classification report\n",
        "print(classification_report(y_test, y_svm_pred))\n",
        "\n",
        "# Print the evaluation metrics\n",
        "print(\"Accuracy: {:.2f}%\".format(accuracy * 100))\n",
        "print(\"Precision: {:.2f}\".format(precision))\n",
        "print(\"Recall: {:.2f}\".format(recall))\n",
        "print(\"F1-score: {:.2f}\".format(f1))\n",
        "print(\"Confusion Matrix:\")\n",
        "print(confusion)"
      ],
      "metadata": {
        "colab": {
          "base_uri": "https://localhost:8080/"
        },
        "id": "gVPNHnr5NLyp",
        "outputId": "aefee052-71ed-4358-b4ef-95ee5ac0a3bc"
      },
      "execution_count": 66,
      "outputs": [
        {
          "output_type": "stream",
          "name": "stdout",
          "text": [
            "              precision    recall  f1-score   support\n",
            "\n",
            "           P       1.00      1.00      1.00         8\n",
            "           R       1.00      1.00      1.00         6\n",
            "          SO       1.00      1.00      1.00        26\n",
            "          SW       1.00      0.97      0.98        30\n",
            "           T       1.00      1.00      1.00         4\n",
            "           W       0.91      1.00      0.95        10\n",
            "\n",
            "    accuracy                           0.99        84\n",
            "   macro avg       0.98      0.99      0.99        84\n",
            "weighted avg       0.99      0.99      0.99        84\n",
            "\n",
            "Accuracy: 98.81%\n",
            "Precision: 0.99\n",
            "Recall: 0.99\n",
            "F1-score: 0.99\n",
            "Confusion Matrix:\n",
            "[[ 8  0  0  0  0  0]\n",
            " [ 0  6  0  0  0  0]\n",
            " [ 0  0 26  0  0  0]\n",
            " [ 0  0  0 29  0  1]\n",
            " [ 0  0  0  0  4  0]\n",
            " [ 0  0  0  0  0 10]]\n"
          ]
        }
      ]
    },
    {
      "cell_type": "markdown",
      "source": [
        "I got 98.81 % accuracy for all models. Hence I performed cross validation to choose better model.\n",
        "\n",
        "Cross-validation is a technique used in machine learning to assess the performance and generalization ability of a model. It involves splitting the available dataset into multiple subsets or folds, where each fold is used as both a training set and a validation set.\n",
        "\n",
        "The process typically follows these steps:\n",
        "\n",
        "* The dataset is divided into K equal-sized folds.\n",
        "* For each fold, the model is trained on the remaining K-1 folds and evaluated on the current fold.\n",
        "* The performance metric, such as accuracy or mean squared error, is recorded for each fold.\n",
        "* The average performance across all folds is calculated, providing an estimate of the model's performance.\n",
        "\n",
        "\n",
        "Cross-validation helps in obtaining a more reliable evaluation of the model's performance by mitigating the effects of dataset variability and overfitting. It allows for better understanding of how the model generalizes to unseen data.\n",
        "\n",
        "One common approach is K-fold cross-validation, where the dataset is divided into K folds, and the process is repeated K times, with each fold serving as the validation set once. The average performance across all K iterations provides a more robust estimation of the model's performance.\n",
        "\n"
      ],
      "metadata": {
        "id": "AQ9ZMDnuEZoR"
      }
    },
    {
      "cell_type": "code",
      "source": [
        "# Perform cross-validation\n",
        "num_folds = 5\n",
        "scoring = 'accuracy'\n",
        "\n",
        "# Random Forest cross-validation\n",
        "rf_scores = cross_val_score(best_rfc_model, X, y, cv=num_folds, scoring=scoring)\n",
        "print(\"Random Forest Cross-Validation Scores:\", rf_scores)\n",
        "print(\"Random Forest Mean Accuracy:\", rf_scores.mean())\n",
        "\n",
        "# SVM cross-validation\n",
        "svm_scores = cross_val_score(best_svm_model, X, y, cv=num_folds, scoring=scoring)\n",
        "print(\"SVM Cross-Validation Scores:\", svm_scores)\n",
        "print(\"SVM Mean Accuracy:\", svm_scores.mean())\n",
        "\n",
        "# dt cross-validation\n",
        "dt_scores = cross_val_score(best_dtc_model, X, y, cv=num_folds, scoring=scoring)\n",
        "print(\"Decision tree Cross-Validation Scores:\",dt_scores)\n",
        "print(\"Decision tree Mean Accuracy:\", dt_scores.mean())\n"
      ],
      "metadata": {
        "colab": {
          "base_uri": "https://localhost:8080/"
        },
        "id": "BNqF5fuVn7q4",
        "outputId": "880f18db-1a38-4542-d02c-a90e04c92e59"
      },
      "execution_count": 67,
      "outputs": [
        {
          "output_type": "stream",
          "name": "stdout",
          "text": [
            "Random Forest Cross-Validation Scores: [0.6547619  0.97619048 0.89285714 0.95238095 0.73809524]\n",
            "Random Forest Mean Accuracy: 0.8428571428571429\n",
            "SVM Cross-Validation Scores: [0.64285714 1.         1.         1.         0.6547619 ]\n",
            "SVM Mean Accuracy: 0.8595238095238095\n",
            "Decision tree Cross-Validation Scores: [0.63095238 1.         1.         1.         0.66666667]\n",
            "Decision tree Mean Accuracy: 0.8595238095238095\n"
          ]
        }
      ]
    },
    {
      "cell_type": "markdown",
      "source": [
        "# Result\n"
      ],
      "metadata": {
        "id": "Plw_p2I8JI_u"
      }
    },
    {
      "cell_type": "markdown",
      "source": [
        "Based on the above classification reports, all three models (Random Forest Classifier, Decision Tree Classifier, Support Vector Machine) demonstrate excellent performance with high accuracy, precision, recall, and F1-score. The accuracy achieved by each model is 98.81%, indicating their ability to make accurate predictions on the bird bone classification task.\n",
        "\n",
        "Based on the cross-validation results, both the Support Vector Machine (SVM) and Decision Tree classifiers have similar mean accuracy scores of approximately 0.86. However, the Random Forest classifier has a slightly lower mean accuracy score of around 0.83.\n",
        "\n",
        "\n",
        "The choice of the best model among these three would have depended on additional factors such as model complexity, interpretability, computational efficiency, and specific requirements of the task. Based on these factors, the Decision Tree model was a suitable choice for the bird classification task.  \n",
        "\n",
        " * Model Complexity: Decision Trees were known for their simplicity and interpretability. They consisted of a series of if-else statements that could be easily understood and visualized. This made it easier to interpret and explain the model's predictions, which was valuable in applications where interpretability was important.  \n",
        "\n",
        " * Interpretability: Decision Trees provided clear and intuitive decision rules based on the features of the data. This allowed domain experts to understand and validate the decision-making process of the model. The interpretability of Decision Trees was particularly beneficial in scenarios where explain ability was necessary, such as in wildlife conservation efforts.  \n",
        "\n",
        " * Computational Efficiency: Decision Trees were computationally efficient, especially when compared to more complex models like Random Forest or SVM. The training and prediction times for Decision Trees were typically faster, making them a practical choice for large datasets or real-time applications.  \n",
        "\n",
        " *\tSpecific Requirements: Decision Trees were known for their versatility and ability to handle both categorical and numerical data. They could capture nonlinear relationships and interactions between features, which were crucial for accurately classifying different bird species based on their unique characteristics.  \n",
        "\n",
        "\n",
        "\n",
        "Considering the computational efficiency, interpretability, and specific requirements of the problem, the Decision Tree classifier would still be a suitable choice. It has comparable performance to the SVM classifier while being computationally more efficient and interpretable due to its tree-based structure. and Decision trees are computationally efficient as they have a lower computational complexity compared to ensemble methods like Random Forest.\n",
        "\n",
        "Moreover, decision trees are highly interpretable, allowing us to understand the decision-making process and the importance of different features in classifying bird bones. This interpretability can be valuable in gaining insights into the classification process and potentially identifying key characteristics for bird bone classification.\n",
        "\n",
        "Therefore, considering the high performance, computational efficiency, and interpretability, the Decision Tree Classifier is the suggested model for bird bone classification."
      ],
      "metadata": {
        "id": "F43IwQXaJNfm"
      }
    }
  ]
}